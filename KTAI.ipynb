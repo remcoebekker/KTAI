{
 "cells": [
  {
   "cell_type": "code",
   "execution_count": 3,
   "id": "99b0276b",
   "metadata": {},
   "outputs": [
    {
     "name": "stdout",
     "output_type": "stream",
     "text": [
      "getting images and labels\n",
      "done getting images and labels\n",
      "training...\n",
      "testing...\n",
      "We are testing on a test video...\n",
      "--------  --------\n",
      "Sequence  Accuracy\n",
      "1         99.79%\n",
      "2         93.74%\n",
      "3         39.90%\n",
      "--------  --------\n"
     ]
    }
   ],
   "source": [
    "import Application\n",
    "Application.run(False)"
   ]
  },
  {
   "cell_type": "code",
   "execution_count": 4,
   "id": "441da53a",
   "metadata": {},
   "outputs": [
    {
     "name": "stdout",
     "output_type": "stream",
     "text": [
      "Hyper parameter 1 stress-test: changing the frame training count\n",
      "Frame training count = 20\n",
      "getting images and labels\n",
      "done getting images and labels\n",
      "training...\n",
      "testing...\n",
      "--------  --------\n",
      "Sequence  Accuracy\n",
      "1         91.63%\n",
      "2         95.13%\n",
      "3         37.37%\n",
      "--------  --------\n",
      "Frame training count = 50\n",
      "getting images and labels\n",
      "done getting images and labels\n",
      "training...\n",
      "testing...\n",
      "--------  --------\n",
      "Sequence  Accuracy\n",
      "1         97.42%\n",
      "2         94.97%\n",
      "3         46.87%\n",
      "--------  --------\n",
      "Frame training count = 100\n",
      "getting images and labels\n",
      "done getting images and labels\n",
      "training...\n",
      "testing...\n",
      "--------  --------\n",
      "Sequence  Accuracy\n",
      "1         98.71%\n",
      "2         90.18%\n",
      "3         91.37%\n",
      "--------  --------\n",
      "Frame training count = 500\n",
      "getting images and labels\n",
      "done getting images and labels\n",
      "training...\n",
      "testing...\n",
      "--------  --------\n",
      "Sequence  Accuracy\n",
      "1         99.79%\n",
      "2         93.74%\n",
      "3         39.90%\n",
      "--------  --------\n"
     ]
    }
   ],
   "source": [
    "import Application\n",
    "Application.run_hyper_parameter_1_test()"
   ]
  },
  {
   "cell_type": "code",
   "execution_count": 5,
   "id": "b09faf70",
   "metadata": {},
   "outputs": [
    {
     "name": "stdout",
     "output_type": "stream",
     "text": [
      "getting images and labels\n",
      "done getting images and labels\n",
      "training...\n",
      "testing...\n",
      "We are webcam testing...\n",
      "\n",
      " [INFO] Exiting Program and cleanup stuff\n"
     ]
    }
   ],
   "source": [
    "import Application\n",
    "Application.run(True)"
   ]
  },
  {
   "cell_type": "code",
   "execution_count": null,
   "id": "31b1d8f1",
   "metadata": {},
   "outputs": [],
   "source": []
  }
 ],
 "metadata": {
  "kernelspec": {
   "display_name": "Python 3 (ipykernel)",
   "language": "python",
   "name": "python3"
  },
  "language_info": {
   "codemirror_mode": {
    "name": "ipython",
    "version": 3
   },
   "file_extension": ".py",
   "mimetype": "text/x-python",
   "name": "python",
   "nbconvert_exporter": "python",
   "pygments_lexer": "ipython3",
   "version": "3.11.5"
  }
 },
 "nbformat": 4,
 "nbformat_minor": 5
}
