{
 "cells": [
  {
   "cell_type": "code",
   "execution_count": 1,
   "id": "99b0276b",
   "metadata": {},
   "outputs": [
    {
     "name": "stdout",
     "output_type": "stream",
     "text": [
      "getting images and labels\n",
      "done getting images and labels\n",
      "training...\n",
      "We are testing on a test video...please wait a few minutes while we are initializing\n",
      "--------  --------\n",
      "Sequence  Accuracy\n",
      "1         95.28%\n",
      "2         90.18%\n",
      "3         37.37%\n",
      "--------  --------\n"
     ]
    }
   ],
   "source": [
    "import Application\n",
    "Application.run(False, True)"
   ]
  },
  {
   "cell_type": "code",
   "execution_count": 2,
   "id": "441da53a",
   "metadata": {},
   "outputs": [
    {
     "name": "stdout",
     "output_type": "stream",
     "text": [
      "Hyper parameter 1 stress-test: changing the frame training count\n",
      "Frame training count = 20\n",
      "getting images and labels\n",
      "done getting images and labels\n",
      "training...\n",
      "--------  --------\n",
      "Sequence  Accuracy\n",
      "1         65.67%\n",
      "2         67.44%\n",
      "3         31.35%\n",
      "--------  --------\n",
      "Frame training count = 50\n",
      "getting images and labels\n",
      "done getting images and labels\n",
      "training...\n",
      "--------  --------\n",
      "Sequence  Accuracy\n",
      "1         79.83%\n",
      "2         67.44%\n",
      "3         32.94%\n",
      "--------  --------\n",
      "Frame training count = 100\n",
      "getting images and labels\n",
      "done getting images and labels\n",
      "training...\n",
      "--------  --------\n",
      "Sequence  Accuracy\n",
      "1         82.83%\n",
      "2         70.22%\n",
      "3         38.80%\n",
      "--------  --------\n",
      "Frame training count = 500\n",
      "getting images and labels\n",
      "done getting images and labels\n",
      "training...\n",
      "--------  --------\n",
      "Sequence  Accuracy\n",
      "1         95.28%\n",
      "2         90.18%\n",
      "3         37.37%\n",
      "--------  --------\n"
     ]
    }
   ],
   "source": [
    "import Application\n",
    "Application.run_frame_training_count_test()"
   ]
  },
  {
   "cell_type": "code",
   "execution_count": 3,
   "id": "b09faf70",
   "metadata": {},
   "outputs": [
    {
     "name": "stdout",
     "output_type": "stream",
     "text": [
      "Hyper parameter 2 stress-test: changing the minimum neighbors count\n",
      "min_neighbors count = 8\n",
      "getting images and labels\n",
      "done getting images and labels\n",
      "training...\n",
      "--------  --------\n",
      "Sequence  Accuracy\n",
      "1         95.28%\n",
      "2         90.18%\n",
      "3         37.37%\n",
      "--------  --------\n",
      "min_neighbors count = 10\n",
      "getting images and labels\n",
      "done getting images and labels\n",
      "training...\n",
      "--------  --------\n",
      "Sequence  Accuracy\n",
      "1         96.35%\n",
      "2         76.26%\n",
      "3         87.57%\n",
      "--------  --------\n"
     ]
    }
   ],
   "source": [
    "import Application\n",
    "Application.run_minNeighbors_test()"
   ]
  },
  {
   "cell_type": "code",
   "execution_count": 4,
   "id": "31b1d8f1",
   "metadata": {},
   "outputs": [
    {
     "name": "stdout",
     "output_type": "stream",
     "text": [
      "We are webcam testing...please wait a few minutes while we are initializing\n",
      "\n",
      " [INFO] Exiting Program and cleanup stuff\n"
     ]
    }
   ],
   "source": [
    "import Application\n",
    "Application.run(True, False)"
   ]
  },
  {
   "cell_type": "code",
   "execution_count": null,
   "id": "1146b4d0",
   "metadata": {},
   "outputs": [],
   "source": []
  }
 ],
 "metadata": {
  "kernelspec": {
   "display_name": "Python 3 (ipykernel)",
   "language": "python",
   "name": "python3"
  },
  "language_info": {
   "codemirror_mode": {
    "name": "ipython",
    "version": 3
   },
   "file_extension": ".py",
   "mimetype": "text/x-python",
   "name": "python",
   "nbconvert_exporter": "python",
   "pygments_lexer": "ipython3",
   "version": "3.11.5"
  }
 },
 "nbformat": 4,
 "nbformat_minor": 5
}
